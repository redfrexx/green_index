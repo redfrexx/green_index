{
 "cells": [
  {
   "cell_type": "markdown",
   "id": "d61e35bb",
   "metadata": {},
   "source": [
    "# Generate a ORS Route"
   ]
  },
  {
   "cell_type": "code",
   "execution_count": 1,
   "id": "81607de6",
   "metadata": {},
   "outputs": [],
   "source": [
    "import geopandas as gpd\n",
    "from modules.routing import Route"
   ]
  },
  {
   "cell_type": "code",
   "execution_count": 2,
   "id": "6f7cd99d",
   "metadata": {},
   "outputs": [
    {
     "ename": "ModuleNotFoundError",
     "evalue": "No module named 'mplleaflet'",
     "output_type": "error",
     "traceback": [
      "\u001b[0;31m---------------------------------------------------------------------------\u001b[0m",
      "\u001b[0;31mModuleNotFoundError\u001b[0m                       Traceback (most recent call last)",
      "Input \u001b[0;32mIn [2]\u001b[0m, in \u001b[0;36m<cell line: 1>\u001b[0;34m()\u001b[0m\n\u001b[0;32m----> 1\u001b[0m \u001b[38;5;28;01mimport\u001b[39;00m \u001b[38;5;21;01mmplleaflet\u001b[39;00m \u001b[38;5;28;01mas\u001b[39;00m \u001b[38;5;21;01mmpl\u001b[39;00m\n",
      "\u001b[0;31mModuleNotFoundError\u001b[0m: No module named 'mplleaflet'"
     ]
    }
   ],
   "source": [
    "import mplleaflet as mpl"
   ]
  },
  {
   "cell_type": "code",
   "execution_count": 3,
   "id": "fb9e4d3a",
   "metadata": {},
   "outputs": [],
   "source": [
    "ors_url = \"http://localhost:81/ors/\" "
   ]
  },
  {
   "cell_type": "markdown",
   "id": "b9531134",
   "metadata": {},
   "source": [
    "### Route parameters"
   ]
  },
  {
   "cell_type": "code",
   "execution_count": 4,
   "id": "4f9d89cb",
   "metadata": {},
   "outputs": [],
   "source": [
    "profile = \"foot-walking\""
   ]
  },
  {
   "cell_type": "code",
   "execution_count": 5,
   "id": "2cc6e93a",
   "metadata": {},
   "outputs": [],
   "source": [
    "start_coords = (49.48228906805112, 8.44755085227836) # geographic coordinates\n",
    "destination_coords = (49.48275342871144, 8.47912014256977)"
   ]
  },
  {
   "cell_type": "code",
   "execution_count": 6,
   "id": "ffb28629",
   "metadata": {},
   "outputs": [],
   "source": [
    "params = {'coordinates': [start_coords[::-1], destination_coords[::-1]],\n",
    "          'instructions': 'false',\n",
    "          'preference': 'recommended',\n",
    "          \"elevation\": \"true\",\n",
    "            \"extra_info\": [\"green\"],\n",
    "          \"continue_straight\": \"true\",\n",
    "          \"options\": {\"avoid_features\": [\"ferries\"], \n",
    "                      \"profile_params\": {\"weightings\": {\n",
    "                          \"steepness_difficulty\":1, \n",
    "                          \"green\":1}}}\n",
    "    }"
   ]
  },
  {
   "cell_type": "markdown",
   "id": "bcc3943c",
   "metadata": {},
   "source": [
    "### Query route"
   ]
  },
  {
   "cell_type": "code",
   "execution_count": 8,
   "id": "d69116c6",
   "metadata": {},
   "outputs": [],
   "source": [
    "route = Route(params=params, base_url=ors_url, profile=profile, fmt=\"geojson\")"
   ]
  },
  {
   "cell_type": "markdown",
   "id": "1d30c712",
   "metadata": {},
   "source": [
    "### Result"
   ]
  },
  {
   "cell_type": "markdown",
   "id": "760d3dcc",
   "metadata": {},
   "source": [
    "#### Plot route"
   ]
  },
  {
   "cell_type": "code",
   "execution_count": 9,
   "id": "337b485d",
   "metadata": {},
   "outputs": [
    {
     "ename": "NameError",
     "evalue": "name 'mpl' is not defined",
     "output_type": "error",
     "traceback": [
      "\u001b[0;31m---------------------------------------------------------------------------\u001b[0m",
      "\u001b[0;31mNameError\u001b[0m                                 Traceback (most recent call last)",
      "Input \u001b[0;32mIn [9]\u001b[0m, in \u001b[0;36m<cell line: 2>\u001b[0;34m()\u001b[0m\n\u001b[1;32m      1\u001b[0m route\u001b[38;5;241m.\u001b[39mplot()\n\u001b[0;32m----> 2\u001b[0m \u001b[43mmpl\u001b[49m\u001b[38;5;241m.\u001b[39mdisplay()\n",
      "\u001b[0;31mNameError\u001b[0m: name 'mpl' is not defined"
     ]
    },
    {
     "data": {
      "image/png": "[encoded data removed]",
      "text/plain": [
       "<Figure size 432x288 with 1 Axes>"
      ]
     },
     "metadata": {
      "needs_background": "light"
     },
     "output_type": "display_data"
    }
   ],
   "source": [
    "route.plot()\n",
    "mpl.display()"
   ]
  },
  {
   "cell_type": "code",
   "execution_count": 10,
   "id": "d56e81a7",
   "metadata": {},
   "outputs": [
    {
     "data": {
      "text/plain": [
       "3070.4"
      ]
     },
     "execution_count": 10,
     "metadata": {},
     "output_type": "execute_result"
    }
   ],
   "source": [
    "route.distance"
   ]
  },
  {
   "cell_type": "code",
   "execution_count": 11,
   "id": "30025742",
   "metadata": {},
   "outputs": [
    {
     "data": {
      "text/plain": [
       "36.03826987590789"
      ]
     },
     "execution_count": 11,
     "metadata": {},
     "output_type": "execute_result"
    }
   ],
   "source": [
    "route.green_exposure"
   ]
  },
  {
   "cell_type": "code",
   "execution_count": 12,
   "id": "da30218b",
   "metadata": {},
   "outputs": [
    {
     "data": {
      "text/plain": [
       "2210.7"
      ]
     },
     "execution_count": 12,
     "metadata": {},
     "output_type": "execute_result"
    }
   ],
   "source": [
    "route.duration"
   ]
  },
  {
   "cell_type": "markdown",
   "id": "db08858b",
   "metadata": {},
   "source": [
    "#### Save to file"
   ]
  },
  {
   "cell_type": "code",
   "execution_count": 13,
   "id": "a3a66006",
   "metadata": {},
   "outputs": [],
   "source": [
    "route.to_file(\"./test_route.geojson\")"
   ]
  },
  {
   "cell_type": "markdown",
   "id": "1f9fdfc9",
   "metadata": {},
   "source": [
    "#### Route geometry"
   ]
  },
  {
   "cell_type": "code",
   "execution_count": 14,
   "id": "914bf413",
   "metadata": {},
   "outputs": [],
   "source": [
    "route_geom = route.as_dataframe().unary_union"
   ]
  },
  {
   "cell_type": "code",
   "execution_count": null,
   "id": "0fc15222",
   "metadata": {},
   "outputs": [],
   "source": []
  }
 ],
 "metadata": {
  "kernelspec": {
   "display_name": "ors-notebook",
   "language": "python",
   "name": "ors-notebook"
  },
  "language_info": {
   "codemirror_mode": {
    "name": "ipython",
    "version": 3
   },
   "file_extension": ".py",
   "mimetype": "text/x-python",
   "name": "python",
   "nbconvert_exporter": "python",
   "pygments_lexer": "ipython3",
   "version": "3.9.11"
  }
 },
 "nbformat": 4,
 "nbformat_minor": 5
}
